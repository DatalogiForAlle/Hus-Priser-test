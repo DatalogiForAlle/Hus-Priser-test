{
 "cells": [
  {
   "cell_type": "code",
   "execution_count": null,
   "metadata": {},
   "outputs": [],
   "source": [
    "import pandas as pd\n",
    "import numpy as np\n",
    "import os\n",
    "csvpath = os.path.join(\"Data\", \"cph.csv\")\n"
   ]
  },
  {
   "cell_type": "code",
   "execution_count": null,
   "metadata": {},
   "outputs": [],
   "source": [
    "data = pd.read_csv(\"cph.csv\")\n",
    "\n",
    "data.plot.scatter(x=\"Longitude\", y=\"Latitude\", figsize=(14,10), alpha=0.3,\n",
    "    s=data[\"Area\"]/5,\n",
    "    c=\"Price\", colormap=\"jet\", \n",
    ")\n"
   ]
  },
  {
   "cell_type": "code",
   "execution_count": null,
   "metadata": {},
   "outputs": [],
   "source": [
    "data = data.drop(\"Address\", axis = 1)\n",
    "data = data.drop(\"Zip_code\", axis = 1)\n",
    "data = data.drop(\"Municipality\", axis = 1)\n",
    "data = data.drop(\"Land_area\",axis = 1)\n",
    "data = data.drop(\"Price_development\", axis = 1)\n"
   ]
  },
  {
   "cell_type": "code",
   "execution_count": null,
   "metadata": {},
   "outputs": [],
   "source": [
    "from sklearn.model_selection import train_test_split \n",
    "\n",
    "train_set, test_set = train_test_split(data, test_size=0.2, random_state=42)\n",
    "train_labels = train_set[\"Price\"].copy()\n",
    "test_labels = test_set[\"Price\"].copy()\n",
    "train_set = train_set.drop(\"Price\", axis =1)\n",
    "test_set = test_set.drop(\"Price\", axis =1)"
   ]
  },
  {
   "cell_type": "code",
   "execution_count": null,
   "metadata": {},
   "outputs": [],
   "source": [
    "from sklearn.linear_model import LinearRegression\n",
    "from sklearn.metrics import mean_squared_error\n",
    "from sklearn.tree import DecisionTreeRegressor\n",
    "\n",
    "linear = DecisionTreeRegressor()\n",
    "linear.fit(train_set,train_labels)\n",
    "predictions = linear.predict(test_set)\n",
    "mse = mean_squared_error(test_labels,predictions)\n",
    "rmse = np.sqrt(mse)\n",
    "rmse"
   ]
  },
  {
   "cell_type": "code",
   "execution_count": null,
   "metadata": {},
   "outputs": [],
   "source": []
  }
 ],
 "metadata": {
  "kernelspec": {
   "display_name": "Python 3",
   "language": "python",
   "name": "python3"
  },
  "language_info": {
   "codemirror_mode": {
    "name": "ipython",
    "version": 3
   },
   "file_extension": ".py",
   "mimetype": "text/x-python",
   "name": "python",
   "nbconvert_exporter": "python",
   "pygments_lexer": "ipython3",
   "version": "3.7.3"
  }
 },
 "nbformat": 4,
 "nbformat_minor": 2
}
